{
  "nbformat": 4,
  "nbformat_minor": 0,
  "metadata": {
    "colab": {
      "name": "clust_recommendations.ipynb",
      "provenance": []
    },
    "kernelspec": {
      "name": "python3",
      "display_name": "Python 3"
    },
    "language_info": {
      "name": "python"
    }
  },
  "cells": [
    {
      "cell_type": "code",
      "metadata": {
        "id": "6zk_ivihmL9v"
      },
      "source": [
        "import pandas as pd\n",
        "import numpy as np\n",
        "import matplotlib.pyplot as plt"
      ],
      "execution_count": 1,
      "outputs": []
    },
    {
      "cell_type": "code",
      "metadata": {
        "colab": {
          "base_uri": "https://localhost:8080/",
          "height": 419
        },
        "id": "5gaizh3MmZ_i",
        "outputId": "6157eae7-6e7e-4d6e-d8d6-d7a71de4ed96"
      },
      "source": [
        "DATA_PATH = \"/content/drive/MyDrive/samocat/results_scoring_17_57.csv\"\n",
        "data = pd.read_csv(DATA_PATH, index_col=0)\n",
        "display(data)"
      ],
      "execution_count": 2,
      "outputs": [
        {
          "output_type": "display_data",
          "data": {
            "text/html": [
              "<div>\n",
              "<style scoped>\n",
              "    .dataframe tbody tr th:only-of-type {\n",
              "        vertical-align: middle;\n",
              "    }\n",
              "\n",
              "    .dataframe tbody tr th {\n",
              "        vertical-align: top;\n",
              "    }\n",
              "\n",
              "    .dataframe thead th {\n",
              "        text-align: right;\n",
              "    }\n",
              "</style>\n",
              "<table border=\"1\" class=\"dataframe\">\n",
              "  <thead>\n",
              "    <tr style=\"text-align: right;\">\n",
              "      <th></th>\n",
              "      <th>average_speed</th>\n",
              "      <th>peak_speed</th>\n",
              "      <th>average_acceleration</th>\n",
              "      <th>peak_acceleration</th>\n",
              "      <th>rapid_overclock</th>\n",
              "      <th>hard_braking</th>\n",
              "      <th>class_predicted</th>\n",
              "    </tr>\n",
              "  </thead>\n",
              "  <tbody>\n",
              "    <tr>\n",
              "      <th>0</th>\n",
              "      <td>6.443223</td>\n",
              "      <td>7.388889</td>\n",
              "      <td>-0.011087</td>\n",
              "      <td>0.977465</td>\n",
              "      <td>0.0</td>\n",
              "      <td>0.0</td>\n",
              "      <td>1</td>\n",
              "    </tr>\n",
              "    <tr>\n",
              "      <th>1</th>\n",
              "      <td>5.237365</td>\n",
              "      <td>7.500000</td>\n",
              "      <td>-0.007952</td>\n",
              "      <td>2.199546</td>\n",
              "      <td>0.0</td>\n",
              "      <td>0.0</td>\n",
              "      <td>2</td>\n",
              "    </tr>\n",
              "    <tr>\n",
              "      <th>2</th>\n",
              "      <td>4.968280</td>\n",
              "      <td>7.083333</td>\n",
              "      <td>-0.030921</td>\n",
              "      <td>1.382306</td>\n",
              "      <td>0.0</td>\n",
              "      <td>0.0</td>\n",
              "      <td>1</td>\n",
              "    </tr>\n",
              "    <tr>\n",
              "      <th>3</th>\n",
              "      <td>6.049740</td>\n",
              "      <td>7.500000</td>\n",
              "      <td>-0.029479</td>\n",
              "      <td>1.229105</td>\n",
              "      <td>0.0</td>\n",
              "      <td>3.0</td>\n",
              "      <td>1</td>\n",
              "    </tr>\n",
              "    <tr>\n",
              "      <th>4</th>\n",
              "      <td>6.428615</td>\n",
              "      <td>7.555556</td>\n",
              "      <td>-0.062866</td>\n",
              "      <td>0.950728</td>\n",
              "      <td>0.0</td>\n",
              "      <td>0.0</td>\n",
              "      <td>1</td>\n",
              "    </tr>\n",
              "    <tr>\n",
              "      <th>...</th>\n",
              "      <td>...</td>\n",
              "      <td>...</td>\n",
              "      <td>...</td>\n",
              "      <td>...</td>\n",
              "      <td>...</td>\n",
              "      <td>...</td>\n",
              "      <td>...</td>\n",
              "    </tr>\n",
              "    <tr>\n",
              "      <th>22498</th>\n",
              "      <td>3.907132</td>\n",
              "      <td>6.750000</td>\n",
              "      <td>0.003167</td>\n",
              "      <td>1.248171</td>\n",
              "      <td>0.0</td>\n",
              "      <td>0.0</td>\n",
              "      <td>0</td>\n",
              "    </tr>\n",
              "    <tr>\n",
              "      <th>22499</th>\n",
              "      <td>4.830391</td>\n",
              "      <td>7.611111</td>\n",
              "      <td>-0.052442</td>\n",
              "      <td>2.365561</td>\n",
              "      <td>0.0</td>\n",
              "      <td>1.0</td>\n",
              "      <td>2</td>\n",
              "    </tr>\n",
              "    <tr>\n",
              "      <th>22500</th>\n",
              "      <td>5.389947</td>\n",
              "      <td>7.250000</td>\n",
              "      <td>-0.014757</td>\n",
              "      <td>0.748727</td>\n",
              "      <td>0.0</td>\n",
              "      <td>0.0</td>\n",
              "      <td>1</td>\n",
              "    </tr>\n",
              "    <tr>\n",
              "      <th>22501</th>\n",
              "      <td>4.175000</td>\n",
              "      <td>6.722222</td>\n",
              "      <td>-0.012502</td>\n",
              "      <td>0.781178</td>\n",
              "      <td>0.0</td>\n",
              "      <td>0.0</td>\n",
              "      <td>0</td>\n",
              "    </tr>\n",
              "    <tr>\n",
              "      <th>22502</th>\n",
              "      <td>2.759923</td>\n",
              "      <td>6.916667</td>\n",
              "      <td>-0.049117</td>\n",
              "      <td>1.368985</td>\n",
              "      <td>0.0</td>\n",
              "      <td>0.0</td>\n",
              "      <td>0</td>\n",
              "    </tr>\n",
              "  </tbody>\n",
              "</table>\n",
              "<p>22503 rows × 7 columns</p>\n",
              "</div>"
            ],
            "text/plain": [
              "       average_speed  peak_speed  ...  hard_braking  class_predicted\n",
              "0           6.443223    7.388889  ...           0.0                1\n",
              "1           5.237365    7.500000  ...           0.0                2\n",
              "2           4.968280    7.083333  ...           0.0                1\n",
              "3           6.049740    7.500000  ...           3.0                1\n",
              "4           6.428615    7.555556  ...           0.0                1\n",
              "...              ...         ...  ...           ...              ...\n",
              "22498       3.907132    6.750000  ...           0.0                0\n",
              "22499       4.830391    7.611111  ...           1.0                2\n",
              "22500       5.389947    7.250000  ...           0.0                1\n",
              "22501       4.175000    6.722222  ...           0.0                0\n",
              "22502       2.759923    6.916667  ...           0.0                0\n",
              "\n",
              "[22503 rows x 7 columns]"
            ]
          },
          "metadata": {
            "tags": []
          }
        }
      ]
    },
    {
      "cell_type": "code",
      "metadata": {
        "id": "um66xOA8oCa6"
      },
      "source": [
        "clust_0 = data[data.class_predicted == 0]\n",
        "clust_1 = data[data.class_predicted == 1]\n",
        "clust_2 = data[data.class_predicted == 2]"
      ],
      "execution_count": 3,
      "outputs": []
    },
    {
      "cell_type": "code",
      "metadata": {
        "colab": {
          "base_uri": "https://localhost:8080/"
        },
        "id": "r8ay77Fkw2J9",
        "outputId": "c04d05ee-19bc-4a9b-a7d8-cdab73069742"
      },
      "source": [
        "n = data.shape[0]\n",
        "print('class_0_perc :', clust_0.shape[0] * 100 / n)\n",
        "print('class_1_perc :', clust_1.shape[0] * 100 / n)\n",
        "print('class_2_perc :', clust_2.shape[0] * 100 / n)"
      ],
      "execution_count": 4,
      "outputs": [
        {
          "output_type": "stream",
          "text": [
            "class_0_perc : 35.93743056481358\n",
            "class_1_perc : 38.897035950762124\n",
            "class_2_perc : 25.165533484424298\n"
          ],
          "name": "stdout"
        }
      ]
    },
    {
      "cell_type": "code",
      "metadata": {
        "id": "jntGvmtH0mS7"
      },
      "source": [
        "def clustering_hist(column):\n",
        "  fig, (ax1, ax2, ax3) = plt.subplots(1, 3)\n",
        "\n",
        "  fig.suptitle(f'{column} in different clusters')\n",
        "\n",
        "  left = np.min(data[column])\n",
        "  right = np.max(data[column])\n",
        "\n",
        "  clust_0.hist(column=column, ax=ax1, bins=25, color='g')\n",
        "  ax1.set_xlabel(column)\n",
        "  ax1.set_xlim([left, right])\n",
        "  ax1.set_title('clust_0')\n",
        "\n",
        "  clust_1.hist(column=column, ax=ax2, bins=25, color='yellow') \n",
        "  ax1.set_xlabel(column)\n",
        "  ax2.set_xlim([left, right])\n",
        "  ax2.set_title('clust_1')\n",
        "\n",
        "  clust_2.hist(column=column, ax=ax3, bins=25, color='r')\n",
        "  ax3.set_xlabel(column)\n",
        "  ax3.set_xlim([left, right])\n",
        "  ax3.set_title('clust_2')\n",
        "\n",
        "  plt.show()"
      ],
      "execution_count": 5,
      "outputs": []
    },
    {
      "cell_type": "code",
      "metadata": {
        "id": "iqXGj72RWyJ1"
      },
      "source": [
        "from pylab import rcParams\n",
        "rcParams['figure.figsize'] = 15, 6"
      ],
      "execution_count": 6,
      "outputs": []
    },
    {
      "cell_type": "code",
      "metadata": {
        "colab": {
          "base_uri": "https://localhost:8080/",
          "height": 432
        },
        "id": "__s7pqsl3r3Z",
        "outputId": "bd66dfd6-6079-4436-a889-c9e16300f3e3"
      },
      "source": [
        "clustering_hist('peak_speed')"
      ],
      "execution_count": 7,
      "outputs": [
        {
          "output_type": "display_data",
          "data": {
            "image/png": "[encoded data removed]",
            "text/plain": [
              "<Figure size 1080x432 with 3 Axes>"
            ]
          },
          "metadata": {
            "tags": [],
            "needs_background": "light"
          }
        }
      ]
    },
    {
      "cell_type": "code",
      "metadata": {
        "colab": {
          "base_uri": "https://localhost:8080/",
          "height": 432
        },
        "id": "iDlwwm_hrdt8",
        "outputId": "9e5995a1-3058-47c9-efcd-1cc354c50778"
      },
      "source": [
        "clustering_hist('average_speed')"
      ],
      "execution_count": 8,
      "outputs": [
        {
          "output_type": "display_data",
          "data": {
            "image/png": "[encoded data removed]",
            "text/plain": [
              "<Figure size 1080x432 with 3 Axes>"
            ]
          },
          "metadata": {
            "tags": [],
            "needs_background": "light"
          }
        }
      ]
    },
    {
      "cell_type": "code",
      "metadata": {
        "colab": {
          "base_uri": "https://localhost:8080/",
          "height": 432
        },
        "id": "uT35hBTK4VNZ",
        "outputId": "0c83e51c-8e19-47b4-b9dc-2e4671f95874"
      },
      "source": [
        "clustering_hist('peak_acceleration')"
      ],
      "execution_count": 9,
      "outputs": [
        {
          "output_type": "display_data",
          "data": {
            "image/png": "[encoded data removed]",
            "text/plain": [
              "<Figure size 1080x432 with 3 Axes>"
            ]
          },
          "metadata": {
            "tags": [],
            "needs_background": "light"
          }
        }
      ]
    },
    {
      "cell_type": "code",
      "metadata": {
        "colab": {
          "base_uri": "https://localhost:8080/",
          "height": 432
        },
        "id": "9e5kihx5IOYT",
        "outputId": "62324cac-c4bf-4abb-8a6f-4f3ab3cfcd82"
      },
      "source": [
        "clustering_hist('hard_braking')"
      ],
      "execution_count": 10,
      "outputs": [
        {
          "output_type": "display_data",
          "data": {
            "image/png": "[encoded data removed]",
            "text/plain": [
              "<Figure size 1080x432 with 3 Axes>"
            ]
          },
          "metadata": {
            "tags": [],
            "needs_background": "light"
          }
        }
      ]
    },
    {
      "cell_type": "code",
      "metadata": {
        "colab": {
          "base_uri": "https://localhost:8080/",
          "height": 419
        },
        "id": "_vUULjeO8uqC",
        "outputId": "3a5d5398-74bc-472d-ddc4-a1799f058682"
      },
      "source": [
        "colors = {0: 'green', 1: 'yellow', 2: 'red'}\n",
        "\n",
        "data['color'] = [colors[data.class_predicted[i]] for i in range(data.shape[0])]\n",
        "data"
      ],
      "execution_count": 11,
      "outputs": [
        {
          "output_type": "execute_result",
          "data": {
            "text/html": [
              "<div>\n",
              "<style scoped>\n",
              "    .dataframe tbody tr th:only-of-type {\n",
              "        vertical-align: middle;\n",
              "    }\n",
              "\n",
              "    .dataframe tbody tr th {\n",
              "        vertical-align: top;\n",
              "    }\n",
              "\n",
              "    .dataframe thead th {\n",
              "        text-align: right;\n",
              "    }\n",
              "</style>\n",
              "<table border=\"1\" class=\"dataframe\">\n",
              "  <thead>\n",
              "    <tr style=\"text-align: right;\">\n",
              "      <th></th>\n",
              "      <th>average_speed</th>\n",
              "      <th>peak_speed</th>\n",
              "      <th>average_acceleration</th>\n",
              "      <th>peak_acceleration</th>\n",
              "      <th>rapid_overclock</th>\n",
              "      <th>hard_braking</th>\n",
              "      <th>class_predicted</th>\n",
              "      <th>color</th>\n",
              "    </tr>\n",
              "  </thead>\n",
              "  <tbody>\n",
              "    <tr>\n",
              "      <th>0</th>\n",
              "      <td>6.443223</td>\n",
              "      <td>7.388889</td>\n",
              "      <td>-0.011087</td>\n",
              "      <td>0.977465</td>\n",
              "      <td>0.0</td>\n",
              "      <td>0.0</td>\n",
              "      <td>1</td>\n",
              "      <td>yellow</td>\n",
              "    </tr>\n",
              "    <tr>\n",
              "      <th>1</th>\n",
              "      <td>5.237365</td>\n",
              "      <td>7.500000</td>\n",
              "      <td>-0.007952</td>\n",
              "      <td>2.199546</td>\n",
              "      <td>0.0</td>\n",
              "      <td>0.0</td>\n",
              "      <td>2</td>\n",
              "      <td>red</td>\n",
              "    </tr>\n",
              "    <tr>\n",
              "      <th>2</th>\n",
              "      <td>4.968280</td>\n",
              "      <td>7.083333</td>\n",
              "      <td>-0.030921</td>\n",
              "      <td>1.382306</td>\n",
              "      <td>0.0</td>\n",
              "      <td>0.0</td>\n",
              "      <td>1</td>\n",
              "      <td>yellow</td>\n",
              "    </tr>\n",
              "    <tr>\n",
              "      <th>3</th>\n",
              "      <td>6.049740</td>\n",
              "      <td>7.500000</td>\n",
              "      <td>-0.029479</td>\n",
              "      <td>1.229105</td>\n",
              "      <td>0.0</td>\n",
              "      <td>3.0</td>\n",
              "      <td>1</td>\n",
              "      <td>yellow</td>\n",
              "    </tr>\n",
              "    <tr>\n",
              "      <th>4</th>\n",
              "      <td>6.428615</td>\n",
              "      <td>7.555556</td>\n",
              "      <td>-0.062866</td>\n",
              "      <td>0.950728</td>\n",
              "      <td>0.0</td>\n",
              "      <td>0.0</td>\n",
              "      <td>1</td>\n",
              "      <td>yellow</td>\n",
              "    </tr>\n",
              "    <tr>\n",
              "      <th>...</th>\n",
              "      <td>...</td>\n",
              "      <td>...</td>\n",
              "      <td>...</td>\n",
              "      <td>...</td>\n",
              "      <td>...</td>\n",
              "      <td>...</td>\n",
              "      <td>...</td>\n",
              "      <td>...</td>\n",
              "    </tr>\n",
              "    <tr>\n",
              "      <th>22498</th>\n",
              "      <td>3.907132</td>\n",
              "      <td>6.750000</td>\n",
              "      <td>0.003167</td>\n",
              "      <td>1.248171</td>\n",
              "      <td>0.0</td>\n",
              "      <td>0.0</td>\n",
              "      <td>0</td>\n",
              "      <td>green</td>\n",
              "    </tr>\n",
              "    <tr>\n",
              "      <th>22499</th>\n",
              "      <td>4.830391</td>\n",
              "      <td>7.611111</td>\n",
              "      <td>-0.052442</td>\n",
              "      <td>2.365561</td>\n",
              "      <td>0.0</td>\n",
              "      <td>1.0</td>\n",
              "      <td>2</td>\n",
              "      <td>red</td>\n",
              "    </tr>\n",
              "    <tr>\n",
              "      <th>22500</th>\n",
              "      <td>5.389947</td>\n",
              "      <td>7.250000</td>\n",
              "      <td>-0.014757</td>\n",
              "      <td>0.748727</td>\n",
              "      <td>0.0</td>\n",
              "      <td>0.0</td>\n",
              "      <td>1</td>\n",
              "      <td>yellow</td>\n",
              "    </tr>\n",
              "    <tr>\n",
              "      <th>22501</th>\n",
              "      <td>4.175000</td>\n",
              "      <td>6.722222</td>\n",
              "      <td>-0.012502</td>\n",
              "      <td>0.781178</td>\n",
              "      <td>0.0</td>\n",
              "      <td>0.0</td>\n",
              "      <td>0</td>\n",
              "      <td>green</td>\n",
              "    </tr>\n",
              "    <tr>\n",
              "      <th>22502</th>\n",
              "      <td>2.759923</td>\n",
              "      <td>6.916667</td>\n",
              "      <td>-0.049117</td>\n",
              "      <td>1.368985</td>\n",
              "      <td>0.0</td>\n",
              "      <td>0.0</td>\n",
              "      <td>0</td>\n",
              "      <td>green</td>\n",
              "    </tr>\n",
              "  </tbody>\n",
              "</table>\n",
              "<p>22503 rows × 8 columns</p>\n",
              "</div>"
            ],
            "text/plain": [
              "       average_speed  peak_speed  ...  class_predicted   color\n",
              "0           6.443223    7.388889  ...                1  yellow\n",
              "1           5.237365    7.500000  ...                2     red\n",
              "2           4.968280    7.083333  ...                1  yellow\n",
              "3           6.049740    7.500000  ...                1  yellow\n",
              "4           6.428615    7.555556  ...                1  yellow\n",
              "...              ...         ...  ...              ...     ...\n",
              "22498       3.907132    6.750000  ...                0   green\n",
              "22499       4.830391    7.611111  ...                2     red\n",
              "22500       5.389947    7.250000  ...                1  yellow\n",
              "22501       4.175000    6.722222  ...                0   green\n",
              "22502       2.759923    6.916667  ...                0   green\n",
              "\n",
              "[22503 rows x 8 columns]"
            ]
          },
          "metadata": {
            "tags": []
          },
          "execution_count": 11
        }
      ]
    },
    {
      "cell_type": "code",
      "metadata": {
        "id": "IF5_oCAa-MtK"
      },
      "source": [
        "data['recommendation'] = ''"
      ],
      "execution_count": 12,
      "outputs": []
    },
    {
      "cell_type": "code",
      "metadata": {
        "id": "OfcTYVSw96HC"
      },
      "source": [
        "# peak_acceleration\n",
        "data.loc[data.peak_acceleration >= 3.0, 'recommendation'] = 'Резкие ускорения и торможения на дорогах - не лучшее решение, не подвергай опасности себя и окружающих!'"
      ],
      "execution_count": 13,
      "outputs": []
    },
    {
      "cell_type": "code",
      "metadata": {
        "id": "4tAjlSTC_KfT"
      },
      "source": [
        "# average_speed\n",
        "data.loc[(data.average_speed >= 5.56) & (data.recommendation == ''), 'recommendation'] = 'Сбавь скорость, так гонять небезопасно!'"
      ],
      "execution_count": 14,
      "outputs": []
    },
    {
      "cell_type": "code",
      "metadata": {
        "id": "fvmH4p8-FjKh"
      },
      "source": [
        "# peak_speed\n",
        "data.loc[(data.peak_speed >= 7.3) & (data.recommendation == ''), 'recommendation'] = 'Дружище, помедленнее! Побереги себя и окружающих!'"
      ],
      "execution_count": 15,
      "outputs": []
    },
    {
      "cell_type": "code",
      "metadata": {
        "id": "MVCEbWugqd7_"
      },
      "source": [
        "# hard_braking\n",
        "data.loc[(data.hard_braking >= 1.0) & (data.recommendation == ''), 'recommendation'] = 'Будь осторожнее! Лучше тормозить заранее!'"
      ],
      "execution_count": 16,
      "outputs": []
    },
    {
      "cell_type": "code",
      "metadata": {
        "colab": {
          "base_uri": "https://localhost:8080/"
        },
        "id": "C_V6--26JCHy",
        "outputId": "9025632f-d987-4971-f2e1-ea318b790f1a"
      },
      "source": [
        "# dangerous riders\n",
        "print(data[data.recommendation != ''].recommendation.value_counts() * 100 / data.shape[0])"
      ],
      "execution_count": 17,
      "outputs": [
        {
          "output_type": "stream",
          "text": [
            "Дружище, помедленнее! Побереги себя и окружающих!                                                          14.820246\n",
            "Сбавь скорость, так гонять небезопасно!                                                                    13.109363\n",
            "Резкие ускорения и торможения на дорогах - не лучшее решение, не подвергай опасности себя и окружающих!     6.741323\n",
            "Будь осторожнее! Лучше тормозить заранее!                                                                   2.915167\n",
            "Name: recommendation, dtype: float64\n"
          ],
          "name": "stdout"
        }
      ]
    },
    {
      "cell_type": "code",
      "metadata": {
        "id": "uQSrYV9GNzZg"
      },
      "source": [
        "data.loc[(data.peak_acceleration >= 2.3) & (data.recommendation == ''), 'recommendation'] = 'Отличная поездка, но в следующий раз разгоняйся, пожалуйста, помедленнее! :)'"
      ],
      "execution_count": 18,
      "outputs": []
    },
    {
      "cell_type": "code",
      "metadata": {
        "id": "BBOV8LzpOg3R"
      },
      "source": [
        "data.loc[(data.peak_speed >= 6.9) & (data.recommendation == ''), 'recommendation'] = 'Отличная поездка! Но иногда все же лучше сбавить скорость, гонщик :)'"
      ],
      "execution_count": 19,
      "outputs": []
    },
    {
      "cell_type": "code",
      "metadata": {
        "colab": {
          "base_uri": "https://localhost:8080/"
        },
        "id": "PwBiFZTTPSTk",
        "outputId": "9877e925-19bb-4e21-bf63-4ee0416a1113"
      },
      "source": [
        "print(data[data.recommendation == ''].color.value_counts())"
      ],
      "execution_count": 20,
      "outputs": [
        {
          "output_type": "stream",
          "text": [
            "green     5912\n",
            "yellow    1323\n",
            "red        241\n",
            "Name: color, dtype: int64\n"
          ],
          "name": "stdout"
        }
      ]
    },
    {
      "cell_type": "code",
      "metadata": {
        "id": "sPQui-h2PZRZ"
      },
      "source": [
        "data.loc[(data.color == 'green') & (data.recommendation == ''), 'recommendation'] = 'Отличная поездка, дружище! До скорой встречи! :)'\n",
        "data.loc[(data.color == 'yellow') & (data.recommendation == ''), 'recommendation'] = 'Отличная поездка, дружище! Только будь в следующий раз чуточку аккуратнее :)'\n",
        "data.loc[(data.color == 'red') & (data.recommendation == ''), 'recommendation'] = 'Отличная поездка, дружище! Только не забывай о безопасности :)'"
      ],
      "execution_count": 21,
      "outputs": []
    },
    {
      "cell_type": "code",
      "metadata": {
        "colab": {
          "base_uri": "https://localhost:8080/"
        },
        "id": "G47Rknp2WCEH",
        "outputId": "2bd18361-17c7-4a60-9dac-d52985552900"
      },
      "source": [
        "# all recommendations\n",
        "print(data[data.recommendation != ''].recommendation.value_counts() * 100 / data.shape[0])"
      ],
      "execution_count": 22,
      "outputs": [
        {
          "output_type": "stream",
          "text": [
            "Отличная поездка, дружище! До скорой встречи! :)                                                           26.272053\n",
            "Отличная поездка! Но иногда все же лучше сбавить скорость, гонщик :)                                       24.787806\n",
            "Дружище, помедленнее! Побереги себя и окружающих!                                                          14.820246\n",
            "Сбавь скорость, так гонять небезопасно!                                                                    13.109363\n",
            "Резкие ускорения и торможения на дорогах - не лучшее решение, не подвергай опасности себя и окружающих!     6.741323\n",
            "Отличная поездка, дружище! Только будь в следующий раз чуточку аккуратнее :)                                5.879216\n",
            "Отличная поездка, но в следующий раз разгоняйся, пожалуйста, помедленнее! :)                                4.403857\n",
            "Будь осторожнее! Лучше тормозить заранее!                                                                   2.915167\n",
            "Отличная поездка, дружище! Только не забывай о безопасности :)                                              1.070968\n",
            "Name: recommendation, dtype: float64\n"
          ],
          "name": "stdout"
        }
      ]
    },
    {
      "cell_type": "code",
      "metadata": {
        "id": "MC3SrSmoWK_n"
      },
      "source": [
        "def recommendation_func(data):\n",
        "  colors = {0: 'green', 1: 'yellow', 2: 'red'}\n",
        "\n",
        "  data['color'] = [colors[data.class_predicted[i]] for i in range(data.shape[0])]\n",
        "  data['recommendation'] = ''\n",
        "\n",
        "  data.loc[data.peak_acceleration >= 3.0, 'recommendation'] = 'Резкие ускорения и торможения на дорогах - не лучшее решение, не подвергай опасности себя и окружающих!'\n",
        "  data.loc[(data.average_speed >= 5.56) & (data.recommendation == ''), 'recommendation'] = 'Сбавь скорость, так гонять небезопасно!'\n",
        "  data.loc[(data.peak_speed >= 7.3) & (data.recommendation == ''), 'recommendation'] = 'Дружище, помедленнее! Побереги себя и окружающих!'\n",
        "  data.loc[(data.hard_braking >= 1.0) & (data.recommendation == ''), 'recommendation'] = 'Будь осторожнее! Лучше тормозить заранее!'\n",
        "\n",
        "  data.loc[(data.peak_acceleration >= 2.3) & (data.recommendation == ''), 'recommendation'] = 'Отличная поездка, но в следующий раз разгоняйся, пожалуйста, помедленнее! :)'\n",
        "  data.loc[(data.peak_speed >= 6.9) & (data.recommendation == ''), 'recommendation'] = 'Отличная поездка! Но иногда все же лучше сбавить скорость, гонщик :)'\n",
        "\n",
        "  data.loc[(data.color == 'green') & (data.recommendation == ''), 'recommendation'] = 'Отличная поездка, дружище! До скорой встречи! :)'\n",
        "  data.loc[(data.color == 'yellow') & (data.recommendation == ''), 'recommendation'] = 'Отличная поездка, дружище! Только будь в следующий раз чуточку аккуратнее :)'\n",
        "  data.loc[(data.color == 'red') & (data.recommendation == ''), 'recommendation'] = 'Отличная поездка, дружище! Только не забывай о безопасности :)'\n",
        "\n",
        "  print(data[data.recommendation != ''].recommendation.value_counts() * 100 / data.shape[0])"
      ],
      "execution_count": 23,
      "outputs": []
    },
    {
      "cell_type": "code",
      "metadata": {
        "colab": {
          "base_uri": "https://localhost:8080/"
        },
        "id": "n0C-puQCZFCN",
        "outputId": "22407081-e40b-40d1-c609-6b6ac8a9061d"
      },
      "source": [
        "data = pd.read_csv(DATA_PATH, index_col=0)\n",
        "recommendation_func(data)"
      ],
      "execution_count": 24,
      "outputs": [
        {
          "output_type": "stream",
          "text": [
            "Отличная поездка, дружище! До скорой встречи! :)                                                           26.272053\n",
            "Отличная поездка! Но иногда все же лучше сбавить скорость, гонщик :)                                       24.787806\n",
            "Дружище, помедленнее! Побереги себя и окружающих!                                                          14.820246\n",
            "Сбавь скорость, так гонять небезопасно!                                                                    13.109363\n",
            "Резкие ускорения и торможения на дорогах - не лучшее решение, не подвергай опасности себя и окружающих!     6.741323\n",
            "Отличная поездка, дружище! Только будь в следующий раз чуточку аккуратнее :)                                5.879216\n",
            "Отличная поездка, но в следующий раз разгоняйся, пожалуйста, помедленнее! :)                                4.403857\n",
            "Будь осторожнее! Лучше тормозить заранее!                                                                   2.915167\n",
            "Отличная поездка, дружище! Только не забывай о безопасности :)                                              1.070968\n",
            "Name: recommendation, dtype: float64\n"
          ],
          "name": "stdout"
        }
      ]
    },
    {
      "cell_type": "code",
      "metadata": {
        "id": "d6BmEtwZZZGf"
      },
      "source": [
        ""
      ],
      "execution_count": null,
      "outputs": []
    }
  ]
}